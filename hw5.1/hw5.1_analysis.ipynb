{
 "cells": [
  {
   "cell_type": "code",
   "execution_count": 3,
   "id": "ee2c4788",
   "metadata": {},
   "outputs": [
    {
     "name": "stdout",
     "output_type": "stream",
     "text": [
      "Collecting altair\n",
      "  Downloading altair-5.5.0-py3-none-any.whl.metadata (11 kB)\n",
      "Requirement already satisfied: jinja2 in c:\\users\\jimmy\\appdata\\local\\programs\\python\\python312\\lib\\site-packages (from altair) (3.1.4)\n",
      "Requirement already satisfied: jsonschema>=3.0 in c:\\users\\jimmy\\appdata\\local\\programs\\python\\python312\\lib\\site-packages (from altair) (4.23.0)\n",
      "Requirement already satisfied: narwhals>=1.14.2 in c:\\users\\jimmy\\appdata\\local\\programs\\python\\python312\\lib\\site-packages (from altair) (1.32.0)\n",
      "Requirement already satisfied: packaging in c:\\users\\jimmy\\appdata\\roaming\\python\\python312\\site-packages (from altair) (24.1)\n",
      "Requirement already satisfied: typing-extensions>=4.10.0 in c:\\users\\jimmy\\appdata\\local\\programs\\python\\python312\\lib\\site-packages (from altair) (4.12.2)\n",
      "Requirement already satisfied: attrs>=22.2.0 in c:\\users\\jimmy\\appdata\\local\\programs\\python\\python312\\lib\\site-packages (from jsonschema>=3.0->altair) (25.3.0)\n",
      "Requirement already satisfied: jsonschema-specifications>=2023.03.6 in c:\\users\\jimmy\\appdata\\local\\programs\\python\\python312\\lib\\site-packages (from jsonschema>=3.0->altair) (2024.10.1)\n",
      "Requirement already satisfied: referencing>=0.28.4 in c:\\users\\jimmy\\appdata\\local\\programs\\python\\python312\\lib\\site-packages (from jsonschema>=3.0->altair) (0.36.2)\n",
      "Requirement already satisfied: rpds-py>=0.7.1 in c:\\users\\jimmy\\appdata\\local\\programs\\python\\python312\\lib\\site-packages (from jsonschema>=3.0->altair) (0.24.0)\n",
      "Requirement already satisfied: MarkupSafe>=2.0 in c:\\users\\jimmy\\appdata\\local\\programs\\python\\python312\\lib\\site-packages (from jinja2->altair) (3.0.2)\n",
      "Downloading altair-5.5.0-py3-none-any.whl (731 kB)\n",
      "   ---------------------------------------- 0.0/731.2 kB ? eta -:--:--\n",
      "   --------------------------------------- 731.2/731.2 kB 31.3 MB/s eta 0:00:00\n",
      "Installing collected packages: altair\n",
      "Successfully installed altair-5.5.0\n",
      "Note: you may need to restart the kernel to use updated packages.\n"
     ]
    },
    {
     "name": "stderr",
     "output_type": "stream",
     "text": [
      "\n",
      "[notice] A new release of pip is available: 24.2 -> 25.0.1\n",
      "[notice] To update, run: python.exe -m pip install --upgrade pip\n"
     ]
    }
   ],
   "source": [
    "%pip install altair"
   ]
  },
  {
   "cell_type": "code",
   "execution_count": 15,
   "id": "94cee07b",
   "metadata": {},
   "outputs": [],
   "source": [
    "import pandas as pd\n",
    "\n",
    "# Manual mapping of state names to numerical FIPS codes\n",
    "state_to_fips = {\n",
    "    \"Alabama\": 1, \"Alaska\": 2, \"Arizona\": 4, \"Arkansas\": 5,\n",
    "    \"California\": 6, \"Colorado\": 8, \"Connecticut\": 9, \"Delaware\": 10,\n",
    "    \"Florida\": 12, \"Georgia\": 13, \"Hawaii\": 15, \"Idaho\": 16,\n",
    "    \"Illinois\": 17, \"Indiana\": 18, \"Iowa\": 19, \"Kansas\": 20,\n",
    "    \"Kentucky\": 21, \"Louisiana\": 22, \"Maine\": 23, \"Maryland\": 24,\n",
    "    \"Massachusetts\": 25, \"Michigan\": 26, \"Minnesota\": 27, \"Mississippi\": 28,\n",
    "    \"Missouri\": 29, \"Montana\": 30, \"Nebraska\": 31, \"Nevada\": 32,\n",
    "    \"New Hampshire\": 33, \"New Jersey\": 34, \"New Mexico\": 35, \"New York\": 36,\n",
    "    \"North Carolina\": 37, \"North Dakota\": 38, \"Ohio\": 39, \"Oklahoma\": 40,\n",
    "    \"Oregon\": 41, \"Pennsylvania\": 42, \"Rhode Island\": 44, \"South Carolina\": 45,\n",
    "    \"South Dakota\": 46, \"Tennessee\": 47, \"Texas\": 48, \"Utah\": 49,\n",
    "    \"Vermont\": 50, \"Virginia\": 51, \"Washington\": 53, \"West Virginia\": 54,\n",
    "    \"Wisconsin\": 55, \"Wyoming\": 56\n",
    "}\n",
    "\n",
    "# Load and process data\n",
    "url = \"https://raw.githubusercontent.com/UIUC-iSchool-DataViz/is445_data/main/bfro_reports_fall2022.csv\"\n",
    "df = pd.read_csv(url)\n",
    "\n",
    "# Create state counts and FIPS mapping\n",
    "state_counts = (\n",
    "    df.groupby('state', as_index=False)\n",
    "    .size()\n",
    "    .rename(columns={'size': 'count'})\n",
    ")\n",
    "state_counts['state_id'] = state_counts['state'].map(state_to_fips)\n",
    "\n",
    "# Save processed data\n",
    "state_counts.to_csv(\"bfro_reports_processed.csv\", index=False)"
   ]
  },
  {
   "cell_type": "code",
   "execution_count": 11,
   "id": "8bc310e7",
   "metadata": {},
   "outputs": [],
   "source": [
    "import pandas as pd\n",
    "\n",
    "# Manual mapping of state names to codes\n",
    "state_to_code = {\n",
    "    \"Alabama\": \"AL\", \"Alaska\": \"AK\", \"Arizona\": \"AZ\", \"Arkansas\": \"AR\",\n",
    "    \"California\": \"CA\", \"Colorado\": \"CO\", \"Connecticut\": \"CT\", \"Delaware\": \"DE\",\n",
    "    \"Florida\": \"FL\", \"Georgia\": \"GA\", \"Hawaii\": \"HI\", \"Idaho\": \"ID\",\n",
    "    \"Illinois\": \"IL\", \"Indiana\": \"IN\", \"Iowa\": \"IA\", \"Kansas\": \"KS\",\n",
    "    \"Kentucky\": \"KY\", \"Louisiana\": \"LA\", \"Maine\": \"ME\", \"Maryland\": \"MD\",\n",
    "    \"Massachusetts\": \"MA\", \"Michigan\": \"MI\", \"Minnesota\": \"MN\", \"Mississippi\": \"MS\",\n",
    "    \"Missouri\": \"MO\", \"Montana\": \"MT\", \"Nebraska\": \"NE\", \"Nevada\": \"NV\",\n",
    "    \"New Hampshire\": \"NH\", \"New Jersey\": \"NJ\", \"New Mexico\": \"NM\", \"New York\": \"NY\",\n",
    "    \"North Carolina\": \"NC\", \"North Dakota\": \"ND\", \"Ohio\": \"OH\", \"Oklahoma\": \"OK\",\n",
    "    \"Oregon\": \"OR\", \"Pennsylvania\": \"PA\", \"Rhode Island\": \"RI\", \"South Carolina\": \"SC\",\n",
    "    \"South Dakota\": \"SD\", \"Tennessee\": \"TN\", \"Texas\": \"TX\", \"Utah\": \"UT\",\n",
    "    \"Vermont\": \"VT\", \"Virginia\": \"VA\", \"Washington\": \"WA\", \"West Virginia\": \"WV\",\n",
    "    \"Wisconsin\": \"WI\", \"Wyoming\": \"WY\"\n",
    "}\n",
    "\n",
    "# Load data\n",
    "url = \"https://raw.githubusercontent.com/UIUC-iSchool-DataViz/is445_data/main/bfro_reports_fall2022.csv\"\n",
    "df = pd.read_csv(url)\n",
    "\n",
    "# Add state_code column using the manual mapping\n",
    "df[\"state_code\"] = df[\"state\"].map(state_to_code)\n",
    "\n",
    "# Save processed data\n",
    "df.to_csv(\"bfro_reports_processed.csv\", index=False)"
   ]
  },
  {
   "cell_type": "code",
   "execution_count": null,
   "id": "16c2d076",
   "metadata": {},
   "outputs": [],
   "source": []
  }
 ],
 "metadata": {
  "kernelspec": {
   "display_name": "Python 3",
   "language": "python",
   "name": "python3"
  },
  "language_info": {
   "codemirror_mode": {
    "name": "ipython",
    "version": 3
   },
   "file_extension": ".py",
   "mimetype": "text/x-python",
   "name": "python",
   "nbconvert_exporter": "python",
   "pygments_lexer": "ipython3",
   "version": "3.12.5"
  }
 },
 "nbformat": 4,
 "nbformat_minor": 5
}

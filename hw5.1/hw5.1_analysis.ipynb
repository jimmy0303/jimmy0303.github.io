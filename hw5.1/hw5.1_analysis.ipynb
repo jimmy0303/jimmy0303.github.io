{
 "cells": [
  {
   "cell_type": "code",
   "execution_count": 3,
   "id": "94cee07b",
   "metadata": {},
   "outputs": [],
   "source": [
    "import pandas as pd\n",
    "import altair as alt\n",
    "state_to_fips = {\n",
    "    \"Alabama\": 1, \"Alaska\": 2, \"Arizona\": 4, \"Arkansas\": 5,\n",
    "    \"California\": 6, \"Colorado\": 8, \"Connecticut\": 9, \"Delaware\": 10,\n",
    "    \"Florida\": 12, \"Georgia\": 13, \"Hawaii\": 15, \"Idaho\": 16,\n",
    "    \"Illinois\": 17, \"Indiana\": 18, \"Iowa\": 19, \"Kansas\": 20,\n",
    "    \"Kentucky\": 21, \"Louisiana\": 22, \"Maine\": 23, \"Maryland\": 24,\n",
    "    \"Massachusetts\": 25, \"Michigan\": 26, \"Minnesota\": 27, \"Mississippi\": 28,\n",
    "    \"Missouri\": 29, \"Montana\": 30, \"Nebraska\": 31, \"Nevada\": 32,\n",
    "    \"New Hampshire\": 33, \"New Jersey\": 34, \"New Mexico\": 35, \"New York\": 36,\n",
    "    \"North Carolina\": 37, \"North Dakota\": 38, \"Ohio\": 39, \"Oklahoma\": 40,\n",
    "    \"Oregon\": 41, \"Pennsylvania\": 42, \"Rhode Island\": 44, \"South Carolina\": 45,\n",
    "    \"South Dakota\": 46, \"Tennessee\": 47, \"Texas\": 48, \"Utah\": 49,\n",
    "    \"Vermont\": 50, \"Virginia\": 51, \"Washington\": 53, \"West Virginia\": 54,\n",
    "    \"Wisconsin\": 55, \"Wyoming\": 56\n",
    "}\n",
    "\n",
    "url = \"https://raw.githubusercontent.com/UIUC-iSchool-DataViz/is445_data/main/bfro_reports_fall2022.csv\"\n",
    "df = pd.read_csv(url)\n",
    "\n",
    "state_counts = (\n",
    "    df.groupby('state', as_index=False)\n",
    "    .size()\n",
    "    .rename(columns={'size': 'count'})\n",
    ")\n",
    "state_counts['state_id'] = state_counts['state'].map(state_to_fips)\n",
    "\n",
    "state_counts.to_csv(\"bfro_reports_processed.csv\", index=False)"
   ]
  },
  {
   "cell_type": "code",
   "execution_count": 5,
   "id": "8bc310e7",
   "metadata": {},
   "outputs": [],
   "source": [
    "state_to_code = {\n",
    "    \"Alabama\": \"AL\", \"Alaska\": \"AK\", \"Arizona\": \"AZ\", \"Arkansas\": \"AR\",\n",
    "    \"California\": \"CA\", \"Colorado\": \"CO\", \"Connecticut\": \"CT\", \"Delaware\": \"DE\",\n",
    "    \"Florida\": \"FL\", \"Georgia\": \"GA\", \"Hawaii\": \"HI\", \"Idaho\": \"ID\",\n",
    "    \"Illinois\": \"IL\", \"Indiana\": \"IN\", \"Iowa\": \"IA\", \"Kansas\": \"KS\",\n",
    "    \"Kentucky\": \"KY\", \"Louisiana\": \"LA\", \"Maine\": \"ME\", \"Maryland\": \"MD\",\n",
    "    \"Massachusetts\": \"MA\", \"Michigan\": \"MI\", \"Minnesota\": \"MN\", \"Mississippi\": \"MS\",\n",
    "    \"Missouri\": \"MO\", \"Montana\": \"MT\", \"Nebraska\": \"NE\", \"Nevada\": \"NV\",\n",
    "    \"New Hampshire\": \"NH\", \"New Jersey\": \"NJ\", \"New Mexico\": \"NM\", \"New York\": \"NY\",\n",
    "    \"North Carolina\": \"NC\", \"North Dakota\": \"ND\", \"Ohio\": \"OH\", \"Oklahoma\": \"OK\",\n",
    "    \"Oregon\": \"OR\", \"Pennsylvania\": \"PA\", \"Rhode Island\": \"RI\", \"South Carolina\": \"SC\",\n",
    "    \"South Dakota\": \"SD\", \"Tennessee\": \"TN\", \"Texas\": \"TX\", \"Utah\": \"UT\",\n",
    "    \"Vermont\": \"VT\", \"Virginia\": \"VA\", \"Washington\": \"WA\", \"West Virginia\": \"WV\",\n",
    "    \"Wisconsin\": \"WI\", \"Wyoming\": \"WY\"\n",
    "}\n",
    "\n",
    "url = \"https://raw.githubusercontent.com/UIUC-iSchool-DataViz/is445_data/main/bfro_reports_fall2022.csv\"\n",
    "df = pd.read_csv(url)\n",
    "\n",
    "df[\"state_code\"] = df[\"state\"].map(state_to_code)\n",
    "\n",
    "df.to_csv(\"bfro_reports_processed.csv\", index=False)"
   ]
  },
  {
   "cell_type": "code",
   "execution_count": 1,
   "id": "192a99b9",
   "metadata": {},
   "outputs": [
    {
     "name": "stderr",
     "output_type": "stream",
     "text": [
      "C:\\Users\\jimmy\\AppData\\Local\\Temp\\ipykernel_13328\\2162398043.py:12: UserWarning: Could not infer format, so each element will be parsed individually, falling back to `dateutil`. To ensure parsing is consistent and as-expected, please specify a format.\n",
      "  bfro['year'] = pd.to_datetime(bfro['observed'], errors='coerce').dt.year  # Correct column: 'observed'\n"
     ]
    },
    {
     "name": "stdout",
     "output_type": "stream",
     "text": [
      "✅ Dashboard saved successfully!\n"
     ]
    }
   ],
   "source": [
    "# %% [python]\n",
    "# Bigfoot Reports Analysis - Verified\n",
    "import pandas as pd\n",
    "import altair as alt\n",
    "alt.data_transformers.disable_max_rows()\n",
    "\n",
    "# Load data with correct column names\n",
    "url = \"https://raw.githubusercontent.com/UIUC-iSchool-DataViz/is445_data/main/bfro_reports_fall2022.csv\"\n",
    "bfro = pd.read_csv(url)\n",
    "\n",
    "# Data cleaning with verified columns\n",
    "bfro['year'] = pd.to_datetime(bfro['observed'], errors='coerce').dt.year  # Correct column: 'observed'\n",
    "bfro = bfro.dropna(subset=['year', 'state'])\n",
    "bfro = bfro[bfro['year'].between(1960, 2022)]\n",
    "\n",
    "# Create visualization\n",
    "brush = alt.selection_interval(encodings=['x'], name='Select Years')\n",
    "\n",
    "map_chart = alt.Chart(alt.topo_feature('https://cdn.jsdelivr.net/npm/vega-datasets@v1.29.0/data/us-10m.json', 'states')).mark_geoshape().encode(\n",
    "    color='count:Q',\n",
    "    tooltip=['state:N', 'count:Q']\n",
    ").transform_lookup(\n",
    "    lookup='properties.name',\n",
    "    from_=alt.LookupData(\n",
    "        bfro.groupby(['state', 'year']).size().reset_index(name='count'),\n",
    "        'state',\n",
    "        ['count', 'year']\n",
    "    )\n",
    ").transform_filter(\n",
    "    brush\n",
    ").project('albersUsa').properties(\n",
    "    width=800,\n",
    "    title='Bigfoot Reports by State'\n",
    ")\n",
    "\n",
    "line_chart = alt.Chart(bfro).mark_line().encode(\n",
    "    x='year:O',\n",
    "    y='count():Q',\n",
    "    color=alt.value('steelblue')\n",
    ").properties(\n",
    "    width=800,\n",
    "    title='Reports Over Time'\n",
    ").add_params(brush)\n",
    "\n",
    "# Save combined visualization\n",
    "(map_chart & line_chart).save('bfro_dashboard.json')\n",
    "print(\"✅ Dashboard saved successfully!\")"
   ]
  },
  {
   "cell_type": "code",
   "execution_count": null,
   "id": "0e40f40d",
   "metadata": {},
   "outputs": [],
   "source": []
  }
 ],
 "metadata": {
  "kernelspec": {
   "display_name": "Python 3",
   "language": "python",
   "name": "python3"
  },
  "language_info": {
   "codemirror_mode": {
    "name": "ipython",
    "version": 3
   },
   "file_extension": ".py",
   "mimetype": "text/x-python",
   "name": "python",
   "nbconvert_exporter": "python",
   "pygments_lexer": "ipython3",
   "version": "3.12.5"
  }
 },
 "nbformat": 4,
 "nbformat_minor": 5
}

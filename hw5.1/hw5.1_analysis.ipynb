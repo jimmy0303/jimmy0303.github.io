{
 "cells": [
  {
   "cell_type": "code",
   "execution_count": 3,
   "id": "ee2c4788",
   "metadata": {},
   "outputs": [
    {
     "name": "stdout",
     "output_type": "stream",
     "text": [
      "Collecting altair\n",
      "  Downloading altair-5.5.0-py3-none-any.whl.metadata (11 kB)\n",
      "Requirement already satisfied: jinja2 in c:\\users\\jimmy\\appdata\\local\\programs\\python\\python312\\lib\\site-packages (from altair) (3.1.4)\n",
      "Requirement already satisfied: jsonschema>=3.0 in c:\\users\\jimmy\\appdata\\local\\programs\\python\\python312\\lib\\site-packages (from altair) (4.23.0)\n",
      "Requirement already satisfied: narwhals>=1.14.2 in c:\\users\\jimmy\\appdata\\local\\programs\\python\\python312\\lib\\site-packages (from altair) (1.32.0)\n",
      "Requirement already satisfied: packaging in c:\\users\\jimmy\\appdata\\roaming\\python\\python312\\site-packages (from altair) (24.1)\n",
      "Requirement already satisfied: typing-extensions>=4.10.0 in c:\\users\\jimmy\\appdata\\local\\programs\\python\\python312\\lib\\site-packages (from altair) (4.12.2)\n",
      "Requirement already satisfied: attrs>=22.2.0 in c:\\users\\jimmy\\appdata\\local\\programs\\python\\python312\\lib\\site-packages (from jsonschema>=3.0->altair) (25.3.0)\n",
      "Requirement already satisfied: jsonschema-specifications>=2023.03.6 in c:\\users\\jimmy\\appdata\\local\\programs\\python\\python312\\lib\\site-packages (from jsonschema>=3.0->altair) (2024.10.1)\n",
      "Requirement already satisfied: referencing>=0.28.4 in c:\\users\\jimmy\\appdata\\local\\programs\\python\\python312\\lib\\site-packages (from jsonschema>=3.0->altair) (0.36.2)\n",
      "Requirement already satisfied: rpds-py>=0.7.1 in c:\\users\\jimmy\\appdata\\local\\programs\\python\\python312\\lib\\site-packages (from jsonschema>=3.0->altair) (0.24.0)\n",
      "Requirement already satisfied: MarkupSafe>=2.0 in c:\\users\\jimmy\\appdata\\local\\programs\\python\\python312\\lib\\site-packages (from jinja2->altair) (3.0.2)\n",
      "Downloading altair-5.5.0-py3-none-any.whl (731 kB)\n",
      "   ---------------------------------------- 0.0/731.2 kB ? eta -:--:--\n",
      "   --------------------------------------- 731.2/731.2 kB 31.3 MB/s eta 0:00:00\n",
      "Installing collected packages: altair\n",
      "Successfully installed altair-5.5.0\n",
      "Note: you may need to restart the kernel to use updated packages.\n"
     ]
    },
    {
     "name": "stderr",
     "output_type": "stream",
     "text": [
      "\n",
      "[notice] A new release of pip is available: 24.2 -> 25.0.1\n",
      "[notice] To update, run: python.exe -m pip install --upgrade pip\n"
     ]
    }
   ],
   "source": [
    "%pip install altair"
   ]
  },
  {
   "cell_type": "code",
   "execution_count": 9,
   "id": "94cee07b",
   "metadata": {},
   "outputs": [],
   "source": [
    "# 1. Import Libraries and Load Data\n",
    "import pandas as pd\n",
    "import altair as alt\n",
    "\n",
    "# Load the Bigfoot data\n",
    "url = \"https://raw.githubusercontent.com/UIUC-iSchool-DataViz/is445_data/main/bfro_reports_fall2022.csv\"\n",
    "df = pd.read_csv(url)\n",
    "\n",
    "# 2. Process Data for Choropleth Map\n",
    "# Count sightings per state\n",
    "state_counts = df['state'].value_counts().reset_index()\n",
    "state_counts.columns = ['state', 'count']\n",
    "\n",
    "# Load US states map data\n",
    "states = alt.topo_feature('https://cdn.jsdelivr.net/npm/vega-datasets@v1.29.0/data/us-10m.json', 'states')\n",
    "\n",
    "# 3. Create Choropleth Map\n",
    "choropleth = alt.Chart(states).mark_geoshape().encode(\n",
    "    color='count:Q',\n",
    "    tooltip=['state:N', 'count:Q']\n",
    ").transform_lookup(\n",
    "    lookup='id',\n",
    "    from_=alt.LookupData(state_counts, 'id', ['count', 'state'])\n",
    ").project('albersUsa')\n",
    "\n",
    "# 4. Process Data for Line Chart\n",
    "# Extract year from date\n",
    "df['year'] = pd.to_datetime(df['date']).dt.year\n",
    "\n",
    "# Count sightings per state/year\n",
    "yearly_counts = df.groupby(['state', 'year']).size().reset_index(name='count')\n",
    "\n",
    "# 5. Create Interactive Line Chart\n",
    "dropdown = alt.binding_select(options=yearly_counts['state'].unique().tolist(), name='Select State:')\n",
    "selection = alt.selection_point(\n",
    "    fields=['state'], \n",
    "    bind=dropdown, \n",
    "    value=[{'state': 'WA'}]  # Initialize with 'WA' as a list of objects\n",
    ")\n",
    "\n",
    "line_chart = alt.Chart(yearly_counts).mark_line().encode(\n",
    "    x='year:O',\n",
    "    y='count:Q',\n",
    "    color=alt.value('steelblue')\n",
    ").add_params(selection).transform_filter(selection)\n",
    "\n",
    "# 6. Save the Charts (Run This After Defining Them!)\n",
    "choropleth.save('assets/choropleth.json')\n",
    "line_chart.save('assets/line_chart.json')"
   ]
  },
  {
   "cell_type": "code",
   "execution_count": 11,
   "id": "8bc310e7",
   "metadata": {},
   "outputs": [],
   "source": [
    "import pandas as pd\n",
    "\n",
    "# Manual mapping of state names to codes\n",
    "state_to_code = {\n",
    "    \"Alabama\": \"AL\", \"Alaska\": \"AK\", \"Arizona\": \"AZ\", \"Arkansas\": \"AR\",\n",
    "    \"California\": \"CA\", \"Colorado\": \"CO\", \"Connecticut\": \"CT\", \"Delaware\": \"DE\",\n",
    "    \"Florida\": \"FL\", \"Georgia\": \"GA\", \"Hawaii\": \"HI\", \"Idaho\": \"ID\",\n",
    "    \"Illinois\": \"IL\", \"Indiana\": \"IN\", \"Iowa\": \"IA\", \"Kansas\": \"KS\",\n",
    "    \"Kentucky\": \"KY\", \"Louisiana\": \"LA\", \"Maine\": \"ME\", \"Maryland\": \"MD\",\n",
    "    \"Massachusetts\": \"MA\", \"Michigan\": \"MI\", \"Minnesota\": \"MN\", \"Mississippi\": \"MS\",\n",
    "    \"Missouri\": \"MO\", \"Montana\": \"MT\", \"Nebraska\": \"NE\", \"Nevada\": \"NV\",\n",
    "    \"New Hampshire\": \"NH\", \"New Jersey\": \"NJ\", \"New Mexico\": \"NM\", \"New York\": \"NY\",\n",
    "    \"North Carolina\": \"NC\", \"North Dakota\": \"ND\", \"Ohio\": \"OH\", \"Oklahoma\": \"OK\",\n",
    "    \"Oregon\": \"OR\", \"Pennsylvania\": \"PA\", \"Rhode Island\": \"RI\", \"South Carolina\": \"SC\",\n",
    "    \"South Dakota\": \"SD\", \"Tennessee\": \"TN\", \"Texas\": \"TX\", \"Utah\": \"UT\",\n",
    "    \"Vermont\": \"VT\", \"Virginia\": \"VA\", \"Washington\": \"WA\", \"West Virginia\": \"WV\",\n",
    "    \"Wisconsin\": \"WI\", \"Wyoming\": \"WY\"\n",
    "}\n",
    "\n",
    "# Load data\n",
    "url = \"https://raw.githubusercontent.com/UIUC-iSchool-DataViz/is445_data/main/bfro_reports_fall2022.csv\"\n",
    "df = pd.read_csv(url)\n",
    "\n",
    "# Add state_code column using the manual mapping\n",
    "df[\"state_code\"] = df[\"state\"].map(state_to_code)\n",
    "\n",
    "# Save processed data\n",
    "df.to_csv(\"bfro_reports_processed.csv\", index=False)"
   ]
  },
  {
   "cell_type": "code",
   "execution_count": null,
   "id": "16c2d076",
   "metadata": {},
   "outputs": [],
   "source": []
  }
 ],
 "metadata": {
  "kernelspec": {
   "display_name": "Python 3",
   "language": "python",
   "name": "python3"
  },
  "language_info": {
   "codemirror_mode": {
    "name": "ipython",
    "version": 3
   },
   "file_extension": ".py",
   "mimetype": "text/x-python",
   "name": "python",
   "nbconvert_exporter": "python",
   "pygments_lexer": "ipython3",
   "version": "3.12.5"
  }
 },
 "nbformat": 4,
 "nbformat_minor": 5
}
